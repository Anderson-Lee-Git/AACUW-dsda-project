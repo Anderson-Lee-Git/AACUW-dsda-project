{
 "cells": [
  {
   "cell_type": "code",
   "execution_count": 78,
   "metadata": {},
   "outputs": [
    {
     "name": "stdout",
     "output_type": "stream",
     "text": [
      "Index(['Unnamed: 0', 'Private', 'Apps', 'Accept', 'Enroll', 'Top10perc',\n",
      "       'Top25perc', 'F.Undergrad', 'P.Undergrad', 'Outstate', 'Room.Board',\n",
      "       'Books', 'Personal', 'PhD', 'Terminal', 'S.F.Ratio', 'perc.alumni',\n",
      "       'Expend', 'Grad.Rate'],\n",
      "      dtype='object')\n"
     ]
    },
    {
     "data": {
      "text/plain": [
       "Index(['world_rank', 'institution', 'country', 'national_rank',\n",
       "       'quality_of_education', 'alumni_employment', 'quality_of_faculty',\n",
       "       'publications', 'influence', 'citations', 'broad_impact', 'patents',\n",
       "       'score', 'year'],\n",
       "      dtype='object')"
      ]
     },
     "execution_count": 78,
     "metadata": {},
     "output_type": "execute_result"
    }
   ],
   "source": [
    "import pandas as pd \n",
    "from sklearn.ensemble import RandomForestRegressor\n",
    "from sklearn.model_selection import train_test_split\n",
    "from sklearn.metrics import mean_squared_error\n",
    "college = pd.read_csv('../Datasets/college/college.csv')\n",
    "print(college.columns)\n",
    "ranking = pd.read_csv('../Datasets/college/cwurData.csv')\n",
    "ranking.columns"
   ]
  },
  {
   "cell_type": "code",
   "execution_count": 83,
   "metadata": {},
   "outputs": [
    {
     "data": {
      "text/plain": [
       "<bound method NDFrame.head of                           Unnamed: 0 Private  Apps  Accept  Enroll  Top10perc  \\\n",
       "0                  Baylor University     Yes  6075    5349    2367         34   \n",
       "2     Bowling Green State University      No  9251    7333    3076         14   \n",
       "3                Brandeis University     Yes  4186    2743     740         48   \n",
       "7                Clarkson University     Yes  2174    1953     557         35   \n",
       "8                 Clemson University      No  8065    5257    2301         37   \n",
       "..                               ...     ...   ...     ...     ...        ...   \n",
       "85             University of Wyoming      No  2029    1516    1073         23   \n",
       "87  Virginia Commonwealth University      No  4963    3497    1567         18   \n",
       "88            Wake Forest University     Yes  5661    2392     903         75   \n",
       "89               Wesleyan University     Yes  4772    1973     712         60   \n",
       "90       Western Michigan University      No  9167    7191    2738         24   \n",
       "\n",
       "    Top25perc  F.Undergrad  P.Undergrad  Outstate  ...  quality_of_education  \\\n",
       "0          66         9919          484      6450  ...                   355   \n",
       "2          45        13699         1213      7452  ...                   355   \n",
       "3          77         2819           62     19380  ...                    49   \n",
       "7          68         2332           53     15960  ...                   355   \n",
       "8          65        11755          770      8116  ...                   355   \n",
       "..        ...          ...          ...       ...  ...                   ...   \n",
       "85         46         7535         1488      5988  ...                   355   \n",
       "87         45        10262         5065     10217  ...                   355   \n",
       "88         88         3499          172     13850  ...                   242   \n",
       "89         86         2714           27     19130  ...                   130   \n",
       "90         53        15739         4278      6940  ...                   355   \n",
       "\n",
       "    alumni_employment  quality_of_faculty  publications  influence  citations  \\\n",
       "0                 351                 210           578        566        220   \n",
       "2                 365                 210           907        653        609   \n",
       "3                 311                  79           527        169        493   \n",
       "7                 305                 210           943        966        800   \n",
       "8                 478                 210           424        470        493   \n",
       "..                ...                 ...           ...        ...        ...   \n",
       "85                224                 210           531        327        363   \n",
       "87                428                 145           263        233        200   \n",
       "88                 59                 210           251        236        150   \n",
       "89                 54                 210           986        538        609   \n",
       "90                478                 210           962        815        800   \n",
       "\n",
       "    broad_impact  patents  score  year  \n",
       "0          395.0      637  45.21  2014  \n",
       "2          756.0      737  44.54  2014  \n",
       "3          322.0      128  47.31  2014  \n",
       "7          769.0      552  44.57  2014  \n",
       "8          402.0      737  45.09  2014  \n",
       "..           ...      ...    ...   ...  \n",
       "85         472.0      426  45.18  2014  \n",
       "87         189.0      149  47.26  2014  \n",
       "88         126.0      128  49.46  2014  \n",
       "89         832.0      737  46.30  2014  \n",
       "90         937.0      737  44.30  2014  \n",
       "\n",
       "[66 rows x 33 columns]>"
      ]
     },
     "execution_count": 83,
     "metadata": {},
     "output_type": "execute_result"
    }
   ],
   "source": [
    "# Get the colleges in common\n",
    "schools_in_college = college['Unnamed: 0']\n",
    "schools_in_ranking = ranking['institution']\n",
    "common_schools = pd.Series(list(set(schools_in_ranking).intersection(set(schools_in_college))))\n",
    "# Get the sub-dataframe for common schools\n",
    "schools_in_college = college[college.iloc[:, 0].isin(common_schools)]\n",
    "# Notice the colleges in ranking actually has duplicates institutions. We drop them and keep the top ranking to combine two sub-dataframes\n",
    "schools_in_ranking = ranking[ranking.iloc[:, 1].isin(common_schools)].drop_duplicates(subset=['institution'], keep='first')\n",
    "# Merge two dataframes\n",
    "merged_df = schools_in_college.merge(schools_in_ranking, left_on='Unnamed: 0', right_on='institution').dropna()\n",
    "merged_df.columns\n",
    "merged_df.head"
   ]
  },
  {
   "cell_type": "code",
   "execution_count": 106,
   "metadata": {},
   "outputs": [
    {
     "name": "stdout",
     "output_type": "stream",
     "text": [
      "Training error: 191.18504897959198\n",
      "Test error: 564.7696117647062\n",
      "Baylor University\n",
      "\t True ranking 473\n",
      "\t Predicted ranking [476.09]\n",
      "Bowling Green State University\n",
      "\t True ranking 793\n",
      "\t Predicted ranking [789.54]\n",
      "Brandeis University\n",
      "\t True ranking 236\n",
      "\t Predicted ranking [239.61]\n",
      "Clarkson University\n",
      "\t True ranking 766\n",
      "\t Predicted ranking [786.09]\n",
      "Clemson University\n",
      "\t True ranking 510\n",
      "\t Predicted ranking [503.64]\n",
      "College of William and Mary\n",
      "\t True ranking 361\n",
      "\t Predicted ranking [371.76]\n",
      "Concordia University\n",
      "\t True ranking 422\n",
      "\t Predicted ranking [420.82]\n",
      "Creighton University\n",
      "\t True ranking 490\n",
      "\t Predicted ranking [487.26]\n"
     ]
    }
   ],
   "source": [
    "# Select features\n",
    "features = merged_df.select_dtypes(exclude=[object]).columns\n",
    "features = features.drop(['world_rank', 'national_rank'])\n",
    "X = merged_df[features]\n",
    "y = merged_df['world_rank']\n",
    "\n",
    "# Train test split\n",
    "X_train, X_test, y_train, y_test = train_test_split(X, y, random_state=1)\n",
    "# Select model\n",
    "model = RandomForestRegressor(random_state = 1)\n",
    "# Train model\n",
    "model.fit(X_train, y_train)\n",
    "# error\n",
    "print(f\"Training error: {mean_squared_error(y_train, model.predict(X_train))}\")\n",
    "print(f\"Test error: {mean_squared_error(y_test, model.predict(X_test))}\")\n",
    "\n",
    "# Show some example\n",
    "samples = merged_df.institution[:8]\n",
    "for s in samples: \n",
    "    print(s)\n",
    "    print(\"\\t True ranking\", merged_df.loc[merged_df.institution == s]['world_rank'].values[0])\n",
    "    print(\"\\t Predicted ranking\", model.predict(merged_df.loc[merged_df.institution == s][features]))"
   ]
  }
 ],
 "metadata": {
  "kernelspec": {
   "display_name": "Python 3",
   "language": "python",
   "name": "python3"
  },
  "language_info": {
   "codemirror_mode": {
    "name": "ipython",
    "version": 3
   },
   "file_extension": ".py",
   "mimetype": "text/x-python",
   "name": "python",
   "nbconvert_exporter": "python",
   "pygments_lexer": "ipython3",
   "version": "3.10.4"
  },
  "orig_nbformat": 4,
  "vscode": {
   "interpreter": {
    "hash": "aee8b7b246df8f9039afb4144a1f6fd8d2ca17a180786b69acc140d282b71a49"
   }
  }
 },
 "nbformat": 4,
 "nbformat_minor": 2
}
