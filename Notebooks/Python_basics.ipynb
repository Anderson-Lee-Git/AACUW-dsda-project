{
  "cells": [
    {
      "cell_type": "markdown",
      "metadata": {
        "colab_type": "text",
        "id": "view-in-github"
      },
      "source": [
        "<a href=\"https://colab.research.google.com/github/Anderson-Lee-Git/AACUW-dsda-project/blob/main/Python_basics.ipynb\" target=\"_parent\"><img src=\"https://colab.research.google.com/assets/colab-badge.svg\" alt=\"Open In Colab\"/></a>"
      ]
    },
    {
      "cell_type": "markdown",
      "metadata": {
        "id": "fbc-afmDVXRX"
      },
      "source": [
        "# Printing\n",
        "> Printing has always been the first step in programming. This is how you print stuffs in Python. If you run the code below, you can see Hello World shown in the small console.\n",
        "\n",
        "* The syntax is `print()`\n",
        "* What goes in the parenthesis is either **data** or **variable**. We'll cover these terms below."
      ]
    },
    {
      "cell_type": "code",
      "execution_count": null,
      "metadata": {
        "colab": {
          "base_uri": "https://localhost:8080/"
        },
        "id": "wQ8_khWFVkDv",
        "outputId": "982ef0b4-6607-4bfa-85eb-492f2bb6f281"
      },
      "outputs": [
        {
          "name": "stdout",
          "output_type": "stream",
          "text": [
            "Hello World 2\n"
          ]
        }
      ],
      "source": [
        "print(\"Hello World\")"
      ]
    },
    {
      "cell_type": "markdown",
      "metadata": {
        "id": "kUKhS3dxMMmg"
      },
      "source": [
        "# Data (types)\n",
        "> Different types of **data** is processed in certains **types** in Python. We'll need to identify the data we are processing and tell Python their types so that they are stored and manipulated correctly in Python. \n",
        "### Primitive \n",
        "* `int`: Integers\n",
        "* `float`: Float numbers\n",
        "* `str`: A sequence of characters including a single character\n",
        "  * Specifically, they will be surrounded by double quote or single quote in Python \n",
        "  * e.g. `\"Hello World\"`\n",
        "* `bool`: True or False\n",
        "\n",
        "### Non-Primitive (Object/Class)\n",
        "> These kinds of data types are **structured** more complicated based on primitive types to make our life easier when manipulating a large chunk of data. We'll cover some important non-primitive types from third-party library later.\n",
        "\n",
        "* `list`: A mutable and ordered collection of a type of data\n",
        "  * e.g. a list of `int`, a list of `str`, even a list of `list`, ...\n",
        "* `tuple`: A immutable and ordered collection of a type of data\n",
        "  * e.g. a tuple of `int`, a tuple of `str`, ...\n",
        "* `set`: A mutable **set** of a type of data (**no duplicates**)\n",
        "  * e.g a set of `int`, a set of `str`, ...\n",
        "* `dict`: A mutable dictionary with collection of (key, value) pairs of data \n",
        "  > `dict` stores multiple (key, value) pairs. \n",
        "\n",
        "  * Notice that all the keys should have a consistent type and values should also have a consistent type. \n",
        "  * Keys can only be **immutable** (which means `list` cannot be key)\n",
        "  * Keys and values can have different types.\n",
        "  * e.g. `dict` of `(int, str)`\n",
        "\n",
        "\n"
      ]
    },
    {
      "cell_type": "markdown",
      "metadata": {
        "id": "AyyR8yE82Hoj"
      },
      "source": [
        "# Variables\n",
        "> Variables are used as temporary storage for data in Python such that we can manipulate on these data. We **assign** values into variables with this `=` sign.\n",
        "\n",
        "* The syntax looks like `variable name = data`\n",
        "\n",
        "### Some examples below\n"
      ]
    },
    {
      "cell_type": "code",
      "execution_count": null,
      "metadata": {
        "colab": {
          "base_uri": "https://localhost:8080/"
        },
        "id": "1wq0u_ctUbaQ",
        "outputId": "fbdfb350-4dae-4ac5-9e0e-b824078a444a"
      },
      "outputs": [
        {
          "name": "stdout",
          "output_type": "stream",
          "text": [
            "100\n",
            "200\n",
            "Bob\n",
            "True\n"
          ]
        }
      ],
      "source": [
        "# A variable called num storing an int \n",
        "num = 100\n",
        "\n",
        "# A variable called name storing a str\n",
        "name = \"Bob\"\n",
        "\n",
        "# A variable called isCool storing a bool\n",
        "isCool = True\n",
        "\n",
        "# Let's print those data stored in the variable out\n",
        "\n",
        "# Remember we can put either data or variable in the parenthesis\n",
        "print(num)\n",
        "\n",
        "num = num + 100 \n",
        "\n",
        "print(num)\n",
        "print(name)\n",
        "print(isCool)\n",
        "\n",
        "# Uncomment below to see weird behavior: int + str\n",
        "# num = num + name"
      ]
    },
    {
      "cell_type": "markdown",
      "metadata": {
        "id": "4VWpGhE4WlJl"
      },
      "source": [
        "# Manipulation\n",
        "> The rule for manipulating data depends on the data types. We'll cover some common operators including logical operators and arithmetic operators\n",
        "\n",
        "### Logical operators\n",
        "* `and`: Both sides must be true, otherwise false\n",
        "* `or`: At least one side is true, otherwise false\n",
        "* `not`: Reverse `True/False` to the statement followed by `not`\n",
        "\n",
        "### Inequality operators\n",
        "* `>`: Greater than\n",
        "* `>=`: Greater than or equal to\n",
        "* `<`: Less than\n",
        "* `<=`: Less than or equal to\n",
        "* `==`: Equal to\n",
        "    * Notice it's double equal sign to differentiate between **equivalence** and **assigning values to variables**\n",
        "\n",
        "* `is`: This is generally vague compared to equal. We won't focus too much about this.\n",
        "\n",
        "### Arithmetic operators\n",
        "* Plus/concatenation: `+`\n",
        "    * `1 + 1 == 2`\n",
        "    * `\"This \" + \"is \" + \"cool.\" == \"This is cool.\"`\n",
        "\n",
        "* Minus: `-`\n",
        "    * `2 - 1 == 1`\n",
        "\n",
        "* Division: `/`\n",
        "    * `2 / 4 == 0.5`\n",
        "\n",
        "* Integer division: `//`\n",
        "    * `4 // 3 == 1`\n",
        "\n",
        "* Multiplication/concatenation: `*`\n",
        "    * `2 * 9 == 18`\n",
        "    * `\"One\"*4 == \"OneOneOneOne\"`\n",
        "\n",
        "* Modulus(remainder): `%`\n",
        "    * `16 % 3 == 1`\n",
        "    * `12 % 3 == 0`\n",
        "    * `4 % 10 == 4`\n",
        "\n",
        "### Some examples below\n"
      ]
    },
    {
      "cell_type": "code",
      "execution_count": null,
      "metadata": {
        "colab": {
          "base_uri": "https://localhost:8080/"
        },
        "id": "_58P3vuEaQTT",
        "outputId": "93506ad9-a1be-46fd-dd39-81bed52ca89c"
      },
      "outputs": [
        {
          "name": "stdout",
          "output_type": "stream",
          "text": [
            "Before addition: a =  100\n",
            "After addition: a =  200\n",
            "Before multiplication: name =  Alice\n",
            "After multiplication: name =  AliceAliceAliceAlice\n",
            "1111\n"
          ]
        }
      ],
      "source": [
        "a = 100\n",
        "print(\"Before addition: a = \", a) # We use comma to differentiate between data and variable in parenthesis\n",
        "a = a + 100\n",
        "print(\"After addition: a = \", a)\n",
        "\n",
        "name = \"Alice\"\n",
        "print(\"Before multiplication: name = \", name)\n",
        "name = name * 4 \n",
        "print(\"After multiplication: name = \", name)"
      ]
    },
    {
      "cell_type": "markdown",
      "metadata": {
        "id": "IEHsWOIkpUEn"
      },
      "source": [
        "### Expression \n",
        "> A statement evaluating to either `True` or `False`. It could involve complicated calculations, inequalities, and aggregations. The main purpose is to provide a certain condition. Let's take a look at some examples:\n",
        "\n",
        "* `16 >= 10: True`\n",
        "* `26 + 10 == 45: False`\n",
        "* `(25 + 10 == 100 and 29 == 29) and (45 < 55): False`\n",
        "    * `25 + 10 == 100: False`\n",
        "    * `29 == 29: True`\n",
        "    * `(25 + 10 == 100 and 29 == 29): False`\n",
        "    * `(45 < 55): True`\n",
        "    * `(25 + 10 == 100 and 29 == 29) and (45 < 55): False and True`\n",
        "    * `False and True: False`"
      ]
    },
    {
      "cell_type": "markdown",
      "metadata": {
        "id": "nt5RwcnS2kpX"
      },
      "source": [
        "# Loop\n",
        "> A loop allows you to perform **similar** or **same** tasks over and over again to reduce code redundancy.\n",
        "\n",
        "### `for` loop\n",
        "> Usually with known times of iterations\n",
        "\n",
        "* Loop variable\n",
        "    * A variable that changes for every iteration\n",
        "    * It's useful for indexing, counting, and some common usages.\n",
        "\n",
        "### Syntax & examples"
      ]
    },
    {
      "cell_type": "code",
      "execution_count": null,
      "metadata": {
        "colab": {
          "base_uri": "https://localhost:8080/"
        },
        "id": "z6o68Dqg2-jU",
        "outputId": "b16891b8-1d4a-4d44-ec25-7b5119c6c745"
      },
      "outputs": [
        {
          "name": "stdout",
          "output_type": "stream",
          "text": [
            "x = 0\n",
            "loop variable i = 0\n",
            "loop variable i = 1\n",
            "loop variable i = 2\n",
            "loop variable i = 3\n",
            "loop variable i = 4\n",
            "loop variable i = 5\n",
            "loop variable i = 6\n",
            "loop variable i = 7\n",
            "loop variable i = 8\n",
            "loop variable i = 9\n",
            "x = 20\n"
          ]
        },
        {
          "data": {
            "text/plain": [
              "[0, 1, 2, 3, 4, 5, 6, 7, 8, 9]"
            ]
          },
          "execution_count": 5,
          "metadata": {},
          "output_type": "execute_result"
        }
      ],
      "source": [
        "x = 0 # Assign a value of 0 to the variable x \n",
        "print(\"x =\", x) # print out x before the for loop\n",
        "for i in range(0, 10, 1): # for loop syntax described below\n",
        "    print(\"loop variable i =\", i) # print out loop variable value\n",
        "    x = x + 2 # statement executed in the for loop\n",
        "print(\"x =\", x)\n",
        "\n",
        "\n",
        "# Run for 5 \n",
        "for i in range(0, 5, 1): \n",
        "  x = x + 1\n",
        "print(\"x =\", x)\n",
        "\n",
        "\n",
        "# range(0, 10, 1): \n",
        "# [0, 1, 2, 3, 4, 5, 6, 7, 8, 9]"
      ]
    },
    {
      "cell_type": "markdown",
      "metadata": {
        "id": "p0gLv5GgLaM6"
      },
      "source": [
        "> Let's look at the syntax at line 3\n",
        "\n",
        "* `for`: A keyword for starting a `for` loop\n",
        "* `i`: The loop variable here\n",
        "* `in range(0, 10, 1)`: Specify the behavior of `i` here\n",
        "    * `range(0, 10, 1)`\n",
        "        * The first parameter means the **starting value**\n",
        "        * The second parameter means the **ending value (exclusive)**\n",
        "        * The final parameter means the **step** (in this case **increment by 1**)\n",
        "    * `in`: the loop variable `i` is in the generated range above\n",
        "* `:`: This colon means the following lines **indented** are **inside** the loop\n",
        "\n",
        "### Notes for indentation\n",
        "> Indentation is one of the most thing in Python. In other languages, `{}` are used to differentiate the scope of lines of codes. In Python instead, indentation is the only thing relied on to differentiate the scope of lines of codes.\n",
        "\n",
        "### More common pattern with `range()`\n",
        "> Instead of fully specifying the start, end, and step of range, we can just specify the end of range. The default start would be 0 and the default step is +1."
      ]
    },
    {
      "cell_type": "code",
      "execution_count": null,
      "metadata": {
        "colab": {
          "base_uri": "https://localhost:8080/"
        },
        "id": "9mPsNJ7rnKrx",
        "outputId": "5353ed71-8469-4b0f-ec80-3fed5c7da335"
      },
      "outputs": [
        {
          "name": "stdout",
          "output_type": "stream",
          "text": [
            "This is the 0 time\n",
            "This is the 1 time\n",
            "This is the 2 time\n",
            "This is the 3 time\n",
            "This is the 4 time\n",
            "This is the 5 time\n",
            "This is the 6 time\n",
            "This is the 7 time\n",
            "This is the 8 time\n",
            "This is the 9 time\n"
          ]
        }
      ],
      "source": [
        "for i in range(10):\n",
        "    print(\"This is the\", i, \"time\")"
      ]
    },
    {
      "cell_type": "markdown",
      "metadata": {
        "id": "X_uy5OI42_xH"
      },
      "source": [
        "# Conditional\n",
        "> Conditional allows you to **select** some pieces of code to execute when certain conditions are met.\n",
        "\n",
        "* The execution will go back to the mainstream after conditionals.\n",
        "\n",
        "### `if/elif/else`\n",
        "* `if`: **if** the expression(condition) is met, the piece of code contained within the `if` will be executed.\n",
        "* `elif`: followed by `if` as a next expression(condition) to check. This condition is checked **only if** the previous `if`'s condition is not met.\n",
        "* `else`: followed by `if` or a series of `if/elif/elif/elif...`. It **does not** contain any condition to check. Instead, the code within it is executed when all previous conditions fail. \n",
        "\n",
        "### Examples \n"
      ]
    },
    {
      "cell_type": "code",
      "execution_count": null,
      "metadata": {
        "id": "wiB3Y2qtuO1O"
      },
      "outputs": [],
      "source": [
        "# Single if\n",
        "n = 10\n",
        "\n",
        "if n == 10: # if n is equal to 10 then execute to code indented(within the conditional)\n",
        "    print(\"n == 10\")\n",
        "\n",
        "print(\"end of the program\") # This line is not indented -> It's outside of the conditional"
      ]
    },
    {
      "cell_type": "code",
      "execution_count": null,
      "metadata": {
        "id": "6M1cN1f_wXTc"
      },
      "outputs": [],
      "source": [
        "# Multiple indenpendent if's \n",
        "n = 10\n",
        "\n",
        "if n == 10: \n",
        "    print(\"n == 10\")\n",
        "\n",
        "print(\"Come back to the main stream\")\n",
        "\n",
        "if n % 2 == 0: \n",
        "    print(\"n is an even number\")\n",
        "\n",
        "print(\"end of the program\")"
      ]
    },
    {
      "cell_type": "code",
      "execution_count": null,
      "metadata": {
        "id": "wqS5bvNiw6Xx"
      },
      "outputs": [],
      "source": [
        "# if and elif\n",
        "n = 10\n",
        "# n = 4\n",
        "\n",
        "if n == 10:\n",
        "    print(\"n == 10\")\n",
        "\n",
        "elif n % 2 == 0:\n",
        "    print(\"n is an even number\")\n",
        "\n",
        "print(\"Come back to the main stream\")\n",
        "\n",
        "print(\"end of the program\")\n",
        "\n"
      ]
    },
    {
      "cell_type": "code",
      "execution_count": null,
      "metadata": {
        "id": "BEKGgKutx4Vx"
      },
      "outputs": [],
      "source": [
        "# if, elif, and else\n",
        "\n",
        "n = 3\n",
        "\n",
        "if n == 10:\n",
        "    print(\"n == 10\")\n",
        "\n",
        "elif n % 2 == 0:\n",
        "    print(\"n is an even number\")\n",
        "\n",
        "else:\n",
        "    print(\"n is an odd number\")\n",
        "\n",
        "print(\"Come back to the main stream\")\n",
        "\n",
        "print(\"end of the program\")\n"
      ]
    },
    {
      "cell_type": "code",
      "execution_count": null,
      "metadata": {
        "id": "9vN1-xo9uPHx"
      },
      "outputs": [],
      "source": [
        "# Nested conditionals which work exactly the same way as normal conditionals\n",
        "\n",
        "n = 100 \n",
        "\n",
        "if n % 2 == 0:\n",
        "    print(\"n is an even number\")\n",
        "    if n > 0:\n",
        "        print(\"n is a positive number\")\n",
        "    elif n == 0:\n",
        "        print(\"n is 0\")\n",
        "    else:\n",
        "        print(\"n is a negative number\")"
      ]
    },
    {
      "cell_type": "markdown",
      "metadata": {
        "id": "Dt9b0SC_3Xtr"
      },
      "source": [
        "# Common data structures\n",
        "\n",
        "### `list`\n",
        "> A **ordered and mutable collection** of some types of data\n",
        "\n",
        "- We use `[]` to indicate a list\n",
        "- Example: a list of integers `[1, 2, 1, 0, 1]`\n",
        "- Since a list is ordered, we can refer to each element through an **index**. \n",
        "    - The index in Python is **0-based** so the first element is at index of 0, the second is at 1, and so on.\n",
        "- There are a lot of useful functions supported for `list`. [This website](https://docs.python.org/3/library/stdtypes.html?highlight=list#typesseq-mutable) covers the most commonly used and examples below show how to use them.\n",
        "    - Notice the **x** or **i** in the parenthesis and their meaning in the function. Pay attention to how to use those functions with those **x**'s (which is called **parameter** or **arguments**)"
      ]
    },
    {
      "cell_type": "code",
      "execution_count": null,
      "metadata": {
        "colab": {
          "base_uri": "https://localhost:8080/"
        },
        "id": "bLGADVamwHMH",
        "outputId": "3aca1799-3bf6-4df8-9276-8d4bcf348d5b"
      },
      "outputs": [
        {
          "name": "stdout",
          "output_type": "stream",
          "text": [
            "Originally, lst = [10, 83, 18]\n",
            "The second element is 83\n",
            "From the 0th element to the 1th element are [10, 83]\n",
            "The length of the list is 3\n",
            "After appending 22, lst = [10, 83, 18, 22]\n",
            "The index of 22 is 3\n",
            "After the 2th element is removed, lst = [10, 83, 22]\n",
            "A copy of lst is [10, 83, 22]\n"
          ]
        }
      ],
      "source": [
        "# Declare a list and assign this list to a variable called lst\n",
        "lst = [10, 83, 18]\n",
        "print(\"Originally, lst =\", lst)\n",
        "\n",
        "# Get the second element (index is 1 because of 0-indexed system) \n",
        "# Syntax: \"The variable storing the list\"[\"the index\"]\n",
        "print(\"The second element is\", lst[1])\n",
        "\n",
        "# Get a subsequence of the list \n",
        "# Syntax: \"The variable storing the list\"[\"the start index\":\"the end index\"]\n",
        "# Notice: The end index is exclusive. For the example below, 2th element is not covered.\n",
        "print(\"From the 0th element to the 1th element are\", lst[0:2])\n",
        "\n",
        "# len(the list): return the length of the list in the paranthesis \n",
        "print(\"The length of the list is\", len(lst))\n",
        "\n",
        "# append(the element to add): append the parameter in the parenthesis to the end of the list\n",
        "lst.append(22)\n",
        "print(\"After appending 22, lst =\", lst)\n",
        "\n",
        "# index(the element to find): find the index of the first occurrence of the parameter in the parenthesis\n",
        "print(\"The index of 22 is\", lst.index(22))\n",
        "\n",
        "# pop(the index of the element to remove): remove the element at the index specified in the parenthesis\n",
        "# if you don't put any index in the parenthesis, default is going to be the last element in the list\n",
        "lst.pop(2)\n",
        "print(\"After the 2th element is removed, lst =\", lst)\n",
        "\n",
        "# remove(the element to remove): remove the element specified in the parenthesis\n",
        "lst.remove(10)\n",
        "print(\"After removing 10, lst =\", lst)\n",
        "\n",
        "# copy(a list): return a copy of the list specified in the parenthesis\n",
        "lst_copy = lst.copy()\n",
        "print(\"A copy of lst is\", lst_copy)\n",
        "\n",
        "\n"
      ]
    },
    {
      "cell_type": "markdown",
      "metadata": {
        "id": "kpmov_TG12If"
      },
      "source": [
        "### `dict` (dictionary)\n",
        "> A mutable collection of data in the form of `(key, value)` pairs. The type of keys is consistent and the type of values is consistent.\n",
        "\n",
        "- We use `{}` to indicate a `dict`\n",
        "- Example: a `dict` with keys of type `str` and values of type `int`\n",
        "    - `{\"Apple\": 23, \"Banana\": 39}`\n",
        "- Notice that keys are unique because we use the keys to refer to the values.\n",
        "    - Namely, there cannot be multiple `\"Apple\"` as keys in the same `dict`\n",
        "- There are a lot of functions supported for `dict`. Common functions are involved with data types beyond the scope of this project. However, we can still work with them with some restrictions in mind. \n",
        "\n"
      ]
    },
    {
      "cell_type": "code",
      "execution_count": null,
      "metadata": {
        "colab": {
          "base_uri": "https://localhost:8080/"
        },
        "id": "5jHctHxj7LLU",
        "outputId": "0aeefcf2-40e3-4d97-d75b-d4c1eefc2976"
      },
      "outputs": [
        {
          "name": "stdout",
          "output_type": "stream",
          "text": [
            "The price of apple is 10\n",
            "After updating and adding fruit to the dict, fruit_price = {'Apple': 20, 'Banana': 12, 'Orange': 5, 'Peach': 200}\n",
            "Read and update, fruit_price = {'Apple': 20, 'Banana': 12, 'Orange': 5, 'Peach': 100}\n",
            "After removing apple, fruit_price = {'Banana': 12, 'Orange': 5, 'Peach': 100}\n",
            "The keys of fruit_price = dict_keys(['Banana', 'Orange', 'Peach'])\n",
            "fruit_price: \n",
            "Banana is $ 12\n",
            "Orange is $ 5\n",
            "Peach is $ 100\n",
            "The values of fruit_price = dict_values([12, 5, 100])\n"
          ]
        }
      ],
      "source": [
        "# Declare a dict and assign this dict to a variable called fruit_price\n",
        "fruit_price = {\"Apple\": 10, \"Banana\": 12, \"Orange\": 5}\n",
        "\n",
        "# Get the value with key \n",
        "# in this case the price of apple\n",
        "print(\"The price of apple is\", fruit_price[\"Apple\"])\n",
        "\n",
        "# Add/update key value pair simply by the square bracket access\n",
        "# if the key does not exist in the dict, then it adds a new key value pair into the dict\n",
        "fruit_price[\"Peach\"] = 200\n",
        "# if the key does exist in the dict, then it updates the existing key value pair\n",
        "fruit_price[\"Apple\"] = 20\n",
        "\n",
        "print(\"After updating and adding fruit to the dict, fruit_price =\", fruit_price)\n",
        "\n",
        "# What if you want to update the value based on your current value \n",
        "# it's simply reading the value and updating it\n",
        "fruit_price[\"Peach\"] = fruit_price[\"Peach\"] - 100\n",
        "\n",
        "print(\"Read and update, fruit_price =\", fruit_price)\n",
        "\n",
        "# pop(The key of the key-value pair to remove)\n",
        "fruit_price.pop(\"Apple\")\n",
        "print(\"After removing apple, fruit_price =\", fruit_price)\n",
        "\n",
        "# keys(): return a \"view of keys\" (similar to a list of elements but only readable) of the dict\n",
        "print(\"The keys of fruit_price =\", fruit_price.keys())\n",
        "\n",
        "# Generally we use a for loop to manipulate those keys\n",
        "# for instance, I can use a key to iterate through the dict and print out key and value together\n",
        "print(\"fruit_price: \")\n",
        "for key in fruit_price.keys():\n",
        "    print(key, \"is $\", fruit_price[key])\n",
        "\n",
        "# values(): return a \"view of values\" (similar to a list of elements but only readable) of the dict\n",
        "print(\"The values of fruit_price =\", fruit_price.values()) \n"
      ]
    },
    {
      "cell_type": "markdown",
      "metadata": {
        "id": "MAW3Fq5SJx2t"
      },
      "source": [
        "# Common usage of `for` loop plus `list`\n"
      ]
    },
    {
      "cell_type": "code",
      "execution_count": null,
      "metadata": {
        "colab": {
          "base_uri": "https://localhost:8080/"
        },
        "id": "8kES26ZyKIYP",
        "outputId": "4af9b094-873d-4221-fc8a-4493448ca1df"
      },
      "outputs": [
        {
          "name": "stdout",
          "output_type": "stream",
          "text": [
            "First approach:\n",
            "1\n",
            "3\n",
            "48\n",
            "29\n",
            "10\n",
            "Second approach:\n",
            "1\n",
            "3\n",
            "48\n",
            "29\n",
            "10\n",
            "After multiplying each element by 2, lst = [2, 6, 96, 58, 20]\n"
          ]
        }
      ],
      "source": [
        "lst = [1, 3, 48, 29, 10]\n",
        "\n",
        "# iterate through each element in the list \n",
        "\n",
        "# First approach: get the element directly\n",
        "# elt is a variable storing each element in the list in each iteration \n",
        "print(\"First approach:\")\n",
        "for elt in lst:\n",
        "    print(elt)\n",
        "\n",
        "# Second approch: get the index and refer to the element through lst[index]\n",
        "# Notice here, index will start from 0 to the length of index - 1 because range() \n",
        "# is also exclusive at end index, which perfectly fits the 0-indexed property\n",
        "print(\"Second approach:\")\n",
        "for index in range(len(lst)):\n",
        "    # refer the i-th element through index\n",
        "    print(lst[index])\n",
        "\n",
        "# Which one is better? \n",
        "# The second one is more powerful than the first one because you get the index \n",
        "# of the element as well. You might want to change the element in the list, which \n",
        "# is only possible if you have the index of an element. \n",
        "\n",
        "\n",
        "# This common pattern allows a lot lot lot more complexity and useful bahaviors\n",
        "# For instance,  multiply each element by 2 \n",
        "for index in range(len(lst)):\n",
        "    lst[index] = lst[index] * 2\n",
        "\n",
        "print(\"After multiplying each element by 2, lst =\", lst)\n",
        "\n",
        "# There are a lot more to do. You will practice in the practice problems.\n",
        "\n"
      ]
    },
    {
      "cell_type": "markdown",
      "metadata": {
        "id": "g4xVgYqFUc7r"
      },
      "source": [
        "# Useful for formatting `str` to print out \n",
        "> The function `str(the thing you want to stringify)` allows you to transform other data types that are compatible with `str` to a `str` such that you can perform concatenation and other manipulation. \n",
        "### Example"
      ]
    },
    {
      "cell_type": "code",
      "execution_count": null,
      "metadata": {
        "id": "iCvW6B3TUyoA"
      },
      "outputs": [],
      "source": [
        "i = 10\n",
        "\n",
        "# Expected output: the 10th number (based on i)\n",
        "\n",
        "# Naive approach: \n",
        "print(\"the\", i, \"th number\")\n",
        "\n",
        "# str() approach:\n",
        "print(\"the \" + str(i) + \"th number\")"
      ]
    }
  ],
  "metadata": {
    "colab": {
      "include_colab_link": true,
      "provenance": []
    },
    "kernelspec": {
      "display_name": "cse446",
      "language": "python",
      "name": "python3"
    },
    "language_info": {
      "name": "python",
      "version": "3.8.10"
    },
    "vscode": {
      "interpreter": {
        "hash": "60a9138d52ba2cee8a09b347a3dbd7e3d6f62088267c73a4cb217cae2050bc3f"
      }
    }
  },
  "nbformat": 4,
  "nbformat_minor": 0
}
