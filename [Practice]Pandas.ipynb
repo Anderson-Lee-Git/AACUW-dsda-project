{
 "cells": [
  {
   "attachments": {},
   "cell_type": "markdown",
   "metadata": {},
   "source": [
    "# Practice `pandas`\n",
    "## [TODO] Data downloading"
   ]
  }
 ],
 "metadata": {
  "kernelspec": {
   "display_name": "cse446",
   "language": "python",
   "name": "python3"
  },
  "language_info": {
   "name": "python",
   "version": "3.8.10 | packaged by conda-forge | (default, Sep 13 2021, 21:14:52) \n[Clang 11.1.0 ]"
  },
  "orig_nbformat": 4,
  "vscode": {
   "interpreter": {
    "hash": "60a9138d52ba2cee8a09b347a3dbd7e3d6f62088267c73a4cb217cae2050bc3f"
   }
  }
 },
 "nbformat": 4,
 "nbformat_minor": 2
}
